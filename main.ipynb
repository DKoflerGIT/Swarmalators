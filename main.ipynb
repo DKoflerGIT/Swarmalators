{
 "cells": [
  {
   "cell_type": "code",
   "execution_count": 1,
   "metadata": {},
   "outputs": [
    {
     "name": "stderr",
     "output_type": "stream",
     "text": [
      "c:\\Users\\xboxd\\source\\Swarmalators\\swarmalator_model\\swarmalator.py:54: RuntimeWarning: invalid value encountered in true_divide\n",
      "  diff_vec = self.velocity / np.linalg.norm(self.velocity) * size * 5\n"
     ]
    }
   ],
   "source": [
    "from swarmalator_model import functions as fct\n",
    "\n",
    "screen_size = 1000\n",
    "no_of_swarmalators = 50\n",
    "delta_t = 0.05\n",
    "coupling_probability = 0.1\n",
    "J = 1\n",
    "K = -0.1\n",
    "memory_init = 'rand'\n",
    "\n",
    "# Pattern                   J       K\n",
    "# ---------------------------------------\n",
    "# Static sync               0.1     1\n",
    "# static async              0.1     -1\n",
    "# static phase wave         1       0\n",
    "# splintered phase wave     1       -0.1\n",
    "# active phase wave         1       -0.75    \n",
    "\n",
    "fct.run_simulation(screen_size, no_of_swarmalators, delta_t, J, K, coupling_probability, memory_init)"
   ]
  }
 ],
 "metadata": {
  "kernelspec": {
   "display_name": "Python 3.10.1 64-bit",
   "language": "python",
   "name": "python3"
  },
  "language_info": {
   "codemirror_mode": {
    "name": "ipython",
    "version": 3
   },
   "file_extension": ".py",
   "mimetype": "text/x-python",
   "name": "python",
   "nbconvert_exporter": "python",
   "pygments_lexer": "ipython3",
   "version": "3.10.1"
  },
  "orig_nbformat": 4,
  "vscode": {
   "interpreter": {
    "hash": "deee277ef8cb4a05cf6441d551c854fa5e547ddedbca2c10e6f5685ea62b6c02"
   }
  }
 },
 "nbformat": 4,
 "nbformat_minor": 2
}
