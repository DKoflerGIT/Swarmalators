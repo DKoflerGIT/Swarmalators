{
 "cells": [
  {
   "cell_type": "markdown",
   "metadata": {},
   "source": [
    "### Import"
   ]
  },
  {
   "cell_type": "code",
   "execution_count": null,
   "metadata": {},
   "outputs": [],
   "source": [
    "from swarmalator_model.environment import Environment"
   ]
  },
  {
   "cell_type": "markdown",
   "metadata": {},
   "source": [
    "### Initialize Environment"
   ]
  },
  {
   "cell_type": "code",
   "execution_count": null,
   "metadata": {},
   "outputs": [],
   "source": [
    "screen_size = 1000\n",
    "num_swarmalators = 100\n",
    "memory_init = 'random'\n",
    "\n",
    "env = Environment(num_swarmalators, memory_init, screen_size)"
   ]
  },
  {
   "cell_type": "markdown",
   "metadata": {},
   "source": [
    "### Run Simulation\n",
    "\n",
    "|Pattern               |   J  |   K   |\n",
    "|----------------------|------|-------|\n",
    "|Static sync           |  0.1 |   1   |\n",
    "|static async          |  0.1 |  -1   |\n",
    "|static phase wave     |    1 |   0   |\n",
    "|splintered phase wave |    1 | -0.1  |\n",
    "|active phase wave     |    1 | -0.75 |"
   ]
  },
  {
   "cell_type": "code",
   "execution_count": null,
   "metadata": {},
   "outputs": [],
   "source": [
    "delta_t = 0.03\n",
    "coupling_probability = 0.1\n",
    "J = 1\n",
    "K = -0.75\n",
    "\n",
    "env.run(delta_t, J, K, coupling_probability)"
   ]
  }
 ],
 "metadata": {
  "kernelspec": {
   "display_name": "Python 3.10.1 64-bit",
   "language": "python",
   "name": "python3"
  },
  "language_info": {
   "codemirror_mode": {
    "name": "ipython",
    "version": 3
   },
   "file_extension": ".py",
   "mimetype": "text/x-python",
   "name": "python",
   "nbconvert_exporter": "python",
   "pygments_lexer": "ipython3",
   "version": "3.10.1"
  },
  "orig_nbformat": 4,
  "vscode": {
   "interpreter": {
    "hash": "deee277ef8cb4a05cf6441d551c854fa5e547ddedbca2c10e6f5685ea62b6c02"
   }
  }
 },
 "nbformat": 4,
 "nbformat_minor": 2
}
