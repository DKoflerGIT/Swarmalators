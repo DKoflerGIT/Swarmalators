{
 "cells": [
  {
   "cell_type": "code",
   "execution_count": 6,
   "metadata": {},
   "outputs": [],
   "source": [
    "from swarmalator_model import functions as fct\n",
    "import tkinter\n",
    "\n",
    "screen_size = 1000\n",
    "no_of_swarmalators = 100\n",
    "delta_t = 0.1\n",
    "coupling_probability = 0.1\n",
    "J = 1\n",
    "K = 0\n",
    "\n",
    "sim = tkinter.Tk()\n",
    "canvas = fct.initialise_canvas(sim, screen_size)\n",
    "\n",
    "list_of_swarmalators = fct.create_swarmalators(canvas, no_of_swarmalators, screen_size)\n",
    "\n",
    "fct.step(canvas, list_of_swarmalators, screen_size, delta_t, J, K, coupling_probability=coupling_probability)\n",
    "sim.mainloop()"
   ]
  }
 ],
 "metadata": {
  "interpreter": {
   "hash": "f761d2206074d82dd8e41bd143266f9d3dcf5f45b684a45cd98ca9fdc4a46ee0"
  },
  "kernelspec": {
   "display_name": "Python 3.10.1 64-bit",
   "language": "python",
   "name": "python3"
  },
  "language_info": {
   "codemirror_mode": {
    "name": "ipython",
    "version": 3
   },
   "file_extension": ".py",
   "mimetype": "text/x-python",
   "name": "python",
   "nbconvert_exporter": "python",
   "pygments_lexer": "ipython3",
   "version": "3.10.1"
  },
  "orig_nbformat": 4
 },
 "nbformat": 4,
 "nbformat_minor": 2
}
