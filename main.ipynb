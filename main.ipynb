{
 "cells": [
  {
   "cell_type": "code",
<<<<<<< HEAD
   "execution_count": 2,
=======
   "execution_count": null,
>>>>>>> 347b629196238f5cbec67f52fe036be96e460b18
   "metadata": {},
   "outputs": [],
   "source": [
    "from swarmalator_model import functions as fct\n",
    "\n",
    "screen_size = 1000\n",
    "no_of_swarmalators = 100\n",
    "delta_t = 0.1\n",
    "coupling_probability = 0.01\n",
    "J = 1\n",
    "K = -0.1\n",
    "\n",
    "# Pattern                   J       K\n",
    "# ---------------------------------------\n",
    "# Static sync               0.1     1\n",
    "# static async              0.1     -1\n",
    "# static phase wave         1       0\n",
    "# splintered phase wave     1       -0.1\n",
    "# active phase wave         1       -0.75    \n",
    "\n",
    "fct.run_simulation(screen_size, no_of_swarmalators, delta_t, J, K, coupling_probability)"
   ]
  }
 ],
 "metadata": {
  "kernelspec": {
   "display_name": "Python 3.10.1 64-bit",
   "language": "python",
   "name": "python3"
  },
  "language_info": {
   "codemirror_mode": {
    "name": "ipython",
    "version": 3
   },
   "file_extension": ".py",
   "mimetype": "text/x-python",
   "name": "python",
   "nbconvert_exporter": "python",
   "pygments_lexer": "ipython3",
   "version": "3.10.4"
  },
  "orig_nbformat": 4,
  "vscode": {
   "interpreter": {
    "hash": "deee277ef8cb4a05cf6441d551c854fa5e547ddedbca2c10e6f5685ea62b6c02"
   }
  }
 },
 "nbformat": 4,
 "nbformat_minor": 2
}
