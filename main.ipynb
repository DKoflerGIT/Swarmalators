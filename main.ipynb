{
 "cells": [
  {
   "cell_type": "code",
   "execution_count": null,
   "metadata": {},
   "outputs": [],
   "source": [
    "from swarmalator_model import functions as fct\n",
    "import threading\n",
    "\n",
    "screen_size = 1000\n",
    "no_of_swarmalators = 200\n",
    "delta_t = 0.1\n",
    "coupling_probability = 0.01\n",
    "J = 0.1\n",
    "K = 1\n",
    "\n",
    "# Pattern                   J       K\n",
    "# ---------------------------------------\n",
    "# Static sync               0.1     1\n",
    "# static async              0.1     -1\n",
    "# static phase wave         1       0\n",
    "# splintered phase wave     1       -0.1\n",
    "# active phase wave         1       -0.75    \n",
    "\n",
    "fct.run_simulation(screen_size, no_of_swarmalators, delta_t, J, K, coupling_probability)"
   ]
  }
 ],
 "metadata": {
  "interpreter": {
   "hash": "f761d2206074d82dd8e41bd143266f9d3dcf5f45b684a45cd98ca9fdc4a46ee0"
  },
  "kernelspec": {
   "display_name": "Python 3.10.1 64-bit",
   "language": "python",
   "name": "python3"
  },
  "language_info": {
   "codemirror_mode": {
    "name": "ipython",
    "version": 3
   },
   "file_extension": ".py",
   "mimetype": "text/x-python",
   "name": "python",
   "nbconvert_exporter": "python",
   "pygments_lexer": "ipython3",
   "version": "3.10.1"
  },
  "orig_nbformat": 4
 },
 "nbformat": 4,
 "nbformat_minor": 2
}
