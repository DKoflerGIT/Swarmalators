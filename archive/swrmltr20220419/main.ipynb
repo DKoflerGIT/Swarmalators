{
 "cells": [
  {
   "cell_type": "code",
   "execution_count": 1,
   "metadata": {},
   "outputs": [],
   "source": [
    "from swarmalator_model import run_swarmalator as run, swarmalator\n",
    "import tkinter"
   ]
  },
  {
   "cell_type": "code",
   "execution_count": 2,
   "metadata": {},
   "outputs": [],
   "source": [
    "screen_size = 1000\n",
    "no_of_swarmalators = 100\n",
    "window = tkinter.Tk()\n",
    "canvas = run.initialise_canvas(window, screen_size)\n",
    "list_of_swarmalators = run.create_swarmalators(canvas, no_of_swarmalators)\n",
    "run.swarmalator_behaviours(canvas, list_of_swarmalators, screen_size)\n",
    "window.mainloop()"
   ]
  }
 ],
 "metadata": {
  "interpreter": {
   "hash": "f761d2206074d82dd8e41bd143266f9d3dcf5f45b684a45cd98ca9fdc4a46ee0"
  },
  "kernelspec": {
   "display_name": "Python 3.10.1 64-bit",
   "language": "python",
   "name": "python3"
  },
  "language_info": {
   "codemirror_mode": {
    "name": "ipython",
    "version": 3
   },
   "file_extension": ".py",
   "mimetype": "text/x-python",
   "name": "python",
   "nbconvert_exporter": "python",
   "pygments_lexer": "ipython3",
   "version": "3.10.1"
  },
  "orig_nbformat": 4
 },
 "nbformat": 4,
 "nbformat_minor": 2
}
