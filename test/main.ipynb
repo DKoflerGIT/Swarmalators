{
 "cells": [
  {
   "cell_type": "code",
   "execution_count": 2,
   "metadata": {},
   "outputs": [],
   "source": [
    "from model import *\n",
    "from mesa.visualization.modules import CanvasGrid\n",
    "from mesa.visualization.ModularVisualization import ModularServer\n",
    "from mesa.visualization.UserParam import UserSettableParameter \n",
    "import tornado"
   ]
  },
  {
   "cell_type": "code",
   "execution_count": 2,
   "metadata": {},
   "outputs": [],
   "source": [
    "def agent_portrayal(agent):\n",
    "\n",
    "    portrayal = {\n",
    "        'Shape' : 'circle',\n",
    "        'r' : 1,\n",
    "        'Filled' : 'true',\n",
    "        'Color' : 'red',\n",
    "        'Layer' : 0\n",
    "    }\n",
    "\n",
    "    # portrayal = {\n",
    "    #     'Shape' : 'arrowHead',\n",
    "    #     'scale' : 1,\n",
    "    #     'heading_x' : (1, 0),\n",
    "    #     'heading_y' : (0, 1),\n",
    "    #     'Filled' : 'true',\n",
    "    #     'Color' : 'red',\n",
    "    #     'Layer' : 0\n",
    "    # }\n",
    "    \n",
    "    return portrayal"
   ]
  },
  {
   "cell_type": "code",
   "execution_count": 3,
   "metadata": {},
   "outputs": [],
   "source": [
    "grid_layout = 10"
   ]
  },
  {
   "cell_type": "code",
   "execution_count": 4,
   "metadata": {},
   "outputs": [],
   "source": [
    "grid = CanvasGrid(agent_portrayal, grid_layout, grid_layout, canvas_width=500, canvas_height=500)"
   ]
  },
  {
   "cell_type": "code",
   "execution_count": 5,
   "metadata": {},
   "outputs": [],
   "source": [
    "model_params = {\n",
    "    \"height\": grid_layout,\n",
    "    \"width\": grid_layout,\n",
    "    \"N\": UserSettableParameter(\"slider\", \"Num of Agents\", 1, 1, 10, 1)\n",
    "}"
   ]
  },
  {
   "cell_type": "code",
   "execution_count": 6,
   "metadata": {},
   "outputs": [
    {
     "name": "stdout",
     "output_type": "stream",
     "text": [
      "Interface starting at http://127.0.0.1:8521\n"
     ]
    },
    {
     "ename": "RuntimeError",
     "evalue": "This event loop is already running",
     "output_type": "error",
     "traceback": [
      "\u001b[1;31m---------------------------------------------------------------------------\u001b[0m",
      "\u001b[1;31mRuntimeError\u001b[0m                              Traceback (most recent call last)",
      "\u001b[1;32mc:\\Users\\xboxd\\source\\SOSwSC\\test\\main.ipynb Cell 6'\u001b[0m in \u001b[0;36m<cell line: 9>\u001b[1;34m()\u001b[0m\n\u001b[0;32m      <a href='vscode-notebook-cell:/c%3A/Users/xboxd/source/SOSwSC/test/main.ipynb#ch0000003?line=0'>1</a>\u001b[0m server \u001b[39m=\u001b[39m ModularServer(\n\u001b[0;32m      <a href='vscode-notebook-cell:/c%3A/Users/xboxd/source/SOSwSC/test/main.ipynb#ch0000003?line=1'>2</a>\u001b[0m     My_Model,\n\u001b[0;32m      <a href='vscode-notebook-cell:/c%3A/Users/xboxd/source/SOSwSC/test/main.ipynb#ch0000003?line=2'>3</a>\u001b[0m     [grid],\n\u001b[0;32m      <a href='vscode-notebook-cell:/c%3A/Users/xboxd/source/SOSwSC/test/main.ipynb#ch0000003?line=3'>4</a>\u001b[0m     name\u001b[39m=\u001b[39m\u001b[39m\"\u001b[39m\u001b[39mMy First Model\u001b[39m\u001b[39m\"\u001b[39m,\n\u001b[0;32m      <a href='vscode-notebook-cell:/c%3A/Users/xboxd/source/SOSwSC/test/main.ipynb#ch0000003?line=4'>5</a>\u001b[0m     model_params\u001b[39m=\u001b[39mmodel_params\n\u001b[0;32m      <a href='vscode-notebook-cell:/c%3A/Users/xboxd/source/SOSwSC/test/main.ipynb#ch0000003?line=5'>6</a>\u001b[0m )\n\u001b[0;32m      <a href='vscode-notebook-cell:/c%3A/Users/xboxd/source/SOSwSC/test/main.ipynb#ch0000003?line=7'>8</a>\u001b[0m server\u001b[39m.\u001b[39mport \u001b[39m=\u001b[39m \u001b[39m8521\u001b[39m \u001b[39m# The default\u001b[39;00m\n\u001b[1;32m----> <a href='vscode-notebook-cell:/c%3A/Users/xboxd/source/SOSwSC/test/main.ipynb#ch0000003?line=8'>9</a>\u001b[0m server\u001b[39m.\u001b[39;49mlaunch()\n",
      "File \u001b[1;32m~\\AppData\\Local\\Programs\\Python\\Python310\\lib\\site-packages\\mesa\\visualization\\ModularVisualization.py:337\u001b[0m, in \u001b[0;36mModularServer.launch\u001b[1;34m(self, port, open_browser)\u001b[0m\n\u001b[0;32m    <a href='file:///c%3A/Users/xboxd/AppData/Local/Programs/Python/Python310/lib/site-packages/mesa/visualization/ModularVisualization.py?line=334'>335</a>\u001b[0m     webbrowser\u001b[39m.\u001b[39mopen(url)\n\u001b[0;32m    <a href='file:///c%3A/Users/xboxd/AppData/Local/Programs/Python/Python310/lib/site-packages/mesa/visualization/ModularVisualization.py?line=335'>336</a>\u001b[0m tornado\u001b[39m.\u001b[39mautoreload\u001b[39m.\u001b[39mstart()\n\u001b[1;32m--> <a href='file:///c%3A/Users/xboxd/AppData/Local/Programs/Python/Python310/lib/site-packages/mesa/visualization/ModularVisualization.py?line=336'>337</a>\u001b[0m tornado\u001b[39m.\u001b[39;49mioloop\u001b[39m.\u001b[39;49mIOLoop\u001b[39m.\u001b[39;49mcurrent()\u001b[39m.\u001b[39;49mstart()\n",
      "File \u001b[1;32m~\\AppData\\Roaming\\Python\\Python310\\site-packages\\tornado\\platform\\asyncio.py:199\u001b[0m, in \u001b[0;36mBaseAsyncIOLoop.start\u001b[1;34m(self)\u001b[0m\n\u001b[0;32m    <a href='file:///c%3A/Users/xboxd/AppData/Roaming/Python/Python310/site-packages/tornado/platform/asyncio.py?line=196'>197</a>\u001b[0m     \u001b[39mself\u001b[39m\u001b[39m.\u001b[39m_setup_logging()\n\u001b[0;32m    <a href='file:///c%3A/Users/xboxd/AppData/Roaming/Python/Python310/site-packages/tornado/platform/asyncio.py?line=197'>198</a>\u001b[0m     asyncio\u001b[39m.\u001b[39mset_event_loop(\u001b[39mself\u001b[39m\u001b[39m.\u001b[39masyncio_loop)\n\u001b[1;32m--> <a href='file:///c%3A/Users/xboxd/AppData/Roaming/Python/Python310/site-packages/tornado/platform/asyncio.py?line=198'>199</a>\u001b[0m     \u001b[39mself\u001b[39;49m\u001b[39m.\u001b[39;49masyncio_loop\u001b[39m.\u001b[39;49mrun_forever()\n\u001b[0;32m    <a href='file:///c%3A/Users/xboxd/AppData/Roaming/Python/Python310/site-packages/tornado/platform/asyncio.py?line=199'>200</a>\u001b[0m \u001b[39mfinally\u001b[39;00m:\n\u001b[0;32m    <a href='file:///c%3A/Users/xboxd/AppData/Roaming/Python/Python310/site-packages/tornado/platform/asyncio.py?line=200'>201</a>\u001b[0m     asyncio\u001b[39m.\u001b[39mset_event_loop(old_loop)\n",
      "File \u001b[1;32m~\\AppData\\Local\\Programs\\Python\\Python310\\lib\\asyncio\\base_events.py:585\u001b[0m, in \u001b[0;36mBaseEventLoop.run_forever\u001b[1;34m(self)\u001b[0m\n\u001b[0;32m    <a href='file:///c%3A/Users/xboxd/AppData/Local/Programs/Python/Python310/lib/asyncio/base_events.py?line=582'>583</a>\u001b[0m \u001b[39m\"\"\"Run until stop() is called.\"\"\"\u001b[39;00m\n\u001b[0;32m    <a href='file:///c%3A/Users/xboxd/AppData/Local/Programs/Python/Python310/lib/asyncio/base_events.py?line=583'>584</a>\u001b[0m \u001b[39mself\u001b[39m\u001b[39m.\u001b[39m_check_closed()\n\u001b[1;32m--> <a href='file:///c%3A/Users/xboxd/AppData/Local/Programs/Python/Python310/lib/asyncio/base_events.py?line=584'>585</a>\u001b[0m \u001b[39mself\u001b[39;49m\u001b[39m.\u001b[39;49m_check_running()\n\u001b[0;32m    <a href='file:///c%3A/Users/xboxd/AppData/Local/Programs/Python/Python310/lib/asyncio/base_events.py?line=585'>586</a>\u001b[0m \u001b[39mself\u001b[39m\u001b[39m.\u001b[39m_set_coroutine_origin_tracking(\u001b[39mself\u001b[39m\u001b[39m.\u001b[39m_debug)\n\u001b[0;32m    <a href='file:///c%3A/Users/xboxd/AppData/Local/Programs/Python/Python310/lib/asyncio/base_events.py?line=586'>587</a>\u001b[0m \u001b[39mself\u001b[39m\u001b[39m.\u001b[39m_thread_id \u001b[39m=\u001b[39m threading\u001b[39m.\u001b[39mget_ident()\n",
      "File \u001b[1;32m~\\AppData\\Local\\Programs\\Python\\Python310\\lib\\asyncio\\base_events.py:577\u001b[0m, in \u001b[0;36mBaseEventLoop._check_running\u001b[1;34m(self)\u001b[0m\n\u001b[0;32m    <a href='file:///c%3A/Users/xboxd/AppData/Local/Programs/Python/Python310/lib/asyncio/base_events.py?line=574'>575</a>\u001b[0m \u001b[39mdef\u001b[39;00m \u001b[39m_check_running\u001b[39m(\u001b[39mself\u001b[39m):\n\u001b[0;32m    <a href='file:///c%3A/Users/xboxd/AppData/Local/Programs/Python/Python310/lib/asyncio/base_events.py?line=575'>576</a>\u001b[0m     \u001b[39mif\u001b[39;00m \u001b[39mself\u001b[39m\u001b[39m.\u001b[39mis_running():\n\u001b[1;32m--> <a href='file:///c%3A/Users/xboxd/AppData/Local/Programs/Python/Python310/lib/asyncio/base_events.py?line=576'>577</a>\u001b[0m         \u001b[39mraise\u001b[39;00m \u001b[39mRuntimeError\u001b[39;00m(\u001b[39m'\u001b[39m\u001b[39mThis event loop is already running\u001b[39m\u001b[39m'\u001b[39m)\n\u001b[0;32m    <a href='file:///c%3A/Users/xboxd/AppData/Local/Programs/Python/Python310/lib/asyncio/base_events.py?line=577'>578</a>\u001b[0m     \u001b[39mif\u001b[39;00m events\u001b[39m.\u001b[39m_get_running_loop() \u001b[39mis\u001b[39;00m \u001b[39mnot\u001b[39;00m \u001b[39mNone\u001b[39;00m:\n\u001b[0;32m    <a href='file:///c%3A/Users/xboxd/AppData/Local/Programs/Python/Python310/lib/asyncio/base_events.py?line=578'>579</a>\u001b[0m         \u001b[39mraise\u001b[39;00m \u001b[39mRuntimeError\u001b[39;00m(\n\u001b[0;32m    <a href='file:///c%3A/Users/xboxd/AppData/Local/Programs/Python/Python310/lib/asyncio/base_events.py?line=579'>580</a>\u001b[0m             \u001b[39m'\u001b[39m\u001b[39mCannot run the event loop while another loop is running\u001b[39m\u001b[39m'\u001b[39m)\n",
      "\u001b[1;31mRuntimeError\u001b[0m: This event loop is already running"
     ]
    },
    {
     "name": "stdout",
     "output_type": "stream",
     "text": [
      "Socket opened!\n",
      "{\"type\":\"reset\"}\n",
      "{\"type\":\"get_step\",\"step\":1}\n",
      "{\"type\":\"get_step\",\"step\":2}\n",
      "{\"type\":\"get_step\",\"step\":3}\n",
      "{\"type\":\"get_step\",\"step\":4}\n",
      "{\"type\":\"get_step\",\"step\":5}\n",
      "{\"type\":\"get_step\",\"step\":6}\n",
      "{\"type\":\"get_step\",\"step\":7}\n",
      "{\"type\":\"get_step\",\"step\":8}\n",
      "{\"type\":\"get_step\",\"step\":9}\n",
      "{\"type\":\"get_step\",\"step\":10}\n",
      "{\"type\":\"get_step\",\"step\":11}\n",
      "{\"type\":\"get_step\",\"step\":12}\n",
      "{\"type\":\"get_step\",\"step\":13}\n",
      "{\"type\":\"get_step\",\"step\":14}\n",
      "{\"type\":\"get_step\",\"step\":15}\n",
      "{\"type\":\"get_step\",\"step\":16}\n",
      "{\"type\":\"get_step\",\"step\":17}\n",
      "{\"type\":\"get_step\",\"step\":18}\n",
      "{\"type\":\"get_step\",\"step\":19}\n",
      "{\"type\":\"get_step\",\"step\":20}\n",
      "{\"type\":\"get_step\",\"step\":21}\n",
      "{\"type\":\"get_step\",\"step\":22}\n",
      "{\"type\":\"get_step\",\"step\":23}\n",
      "{\"type\":\"get_step\",\"step\":24}\n",
      "{\"type\":\"get_step\",\"step\":25}\n",
      "{\"type\":\"reset\"}\n",
      "{\"type\":\"get_step\",\"step\":1}\n",
      "{\"type\":\"get_step\",\"step\":2}\n",
      "{\"type\":\"get_step\",\"step\":3}\n",
      "{\"type\":\"get_step\",\"step\":4}\n",
      "{\"type\":\"get_step\",\"step\":5}\n",
      "{\"type\":\"get_step\",\"step\":6}\n",
      "{\"type\":\"get_step\",\"step\":7}\n",
      "{\"type\":\"get_step\",\"step\":8}\n",
      "{\"type\":\"get_step\",\"step\":9}\n",
      "{\"type\":\"get_step\",\"step\":10}\n",
      "{\"type\":\"get_step\",\"step\":11}\n",
      "{\"type\":\"get_step\",\"step\":12}\n",
      "{\"type\":\"get_step\",\"step\":13}\n",
      "{\"type\":\"get_step\",\"step\":14}\n",
      "{\"type\":\"get_step\",\"step\":15}\n",
      "{\"type\":\"get_step\",\"step\":16}\n",
      "{\"type\":\"get_step\",\"step\":17}\n",
      "{\"type\":\"get_step\",\"step\":18}\n",
      "{\"type\":\"get_step\",\"step\":19}\n",
      "{\"type\":\"get_step\",\"step\":20}\n",
      "{\"type\":\"get_step\",\"step\":21}\n",
      "{\"type\":\"get_step\",\"step\":22}\n",
      "{\"type\":\"get_step\",\"step\":23}\n",
      "{\"type\":\"get_step\",\"step\":24}\n",
      "{\"type\":\"get_step\",\"step\":25}\n",
      "{\"type\":\"get_step\",\"step\":26}\n",
      "{\"type\":\"get_step\",\"step\":27}\n",
      "{\"type\":\"get_step\",\"step\":28}\n",
      "{\"type\":\"get_step\",\"step\":29}\n",
      "{\"type\":\"get_step\",\"step\":30}\n",
      "{\"type\":\"get_step\",\"step\":31}\n",
      "{\"type\":\"get_step\",\"step\":32}\n",
      "{\"type\":\"get_step\",\"step\":33}\n",
      "{\"type\":\"get_step\",\"step\":34}\n",
      "{\"type\":\"get_step\",\"step\":35}\n",
      "{\"type\":\"get_step\",\"step\":36}\n",
      "{\"type\":\"get_step\",\"step\":37}\n",
      "{\"type\":\"get_step\",\"step\":38}\n",
      "{\"type\":\"get_step\",\"step\":39}\n",
      "{\"type\":\"get_step\",\"step\":40}\n",
      "{\"type\":\"get_step\",\"step\":41}\n",
      "{\"type\":\"get_step\",\"step\":42}\n",
      "{\"type\":\"get_step\",\"step\":43}\n",
      "{\"type\":\"get_step\",\"step\":44}\n",
      "{\"type\":\"get_step\",\"step\":45}\n",
      "{\"type\":\"get_step\",\"step\":46}\n",
      "{\"type\":\"get_step\",\"step\":47}\n",
      "{\"type\":\"get_step\",\"step\":48}\n",
      "{\"type\":\"get_step\",\"step\":49}\n",
      "{\"type\":\"get_step\",\"step\":50}\n",
      "{\"type\":\"get_step\",\"step\":51}\n",
      "{\"type\":\"reset\"}\n"
     ]
    }
   ],
   "source": [
    "server = ModularServer(\n",
    "    My_Model,\n",
    "    [grid],\n",
    "    name=\"My First Model\",\n",
    "    model_params=model_params\n",
    ")\n",
    "\n",
    "server.port = 8521 # The default\n",
    "server.launch()"
   ]
  },
  {
   "cell_type": "code",
   "execution_count": 3,
   "metadata": {},
   "outputs": [],
   "source": [
    "# tornado.ioloop.IOLoop.current().stop()"
   ]
  }
 ],
 "metadata": {
  "interpreter": {
   "hash": "f761d2206074d82dd8e41bd143266f9d3dcf5f45b684a45cd98ca9fdc4a46ee0"
  },
  "kernelspec": {
   "display_name": "Python 3.10.1 64-bit",
   "language": "python",
   "name": "python3"
  },
  "language_info": {
   "codemirror_mode": {
    "name": "ipython",
    "version": 3
   },
   "file_extension": ".py",
   "mimetype": "text/x-python",
   "name": "python",
   "nbconvert_exporter": "python",
   "pygments_lexer": "ipython3",
   "version": "3.10.1"
  },
  "orig_nbformat": 4
 },
 "nbformat": 4,
 "nbformat_minor": 2
}
